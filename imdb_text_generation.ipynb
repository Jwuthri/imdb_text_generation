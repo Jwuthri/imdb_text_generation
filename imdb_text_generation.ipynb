{
 "cells": [
  {
   "cell_type": "code",
   "execution_count": 1,
   "metadata": {},
   "outputs": [],
   "source": [
    "#imports\n",
    "from fastai.text import *"
   ]
  },
  {
   "cell_type": "markdown",
   "metadata": {},
   "source": [
    "# Language Model Fine-tuning on IMDB Dataset"
   ]
  },
  {
   "cell_type": "code",
   "execution_count": 2,
   "metadata": {},
   "outputs": [
    {
     "data": {
      "text/plain": [
       "[WindowsPath('C:/Users/Oren/.fastai/data/imdb/imdb.vocab'),\n",
       " WindowsPath('C:/Users/Oren/.fastai/data/imdb/imdb_databunch'),\n",
       " WindowsPath('C:/Users/Oren/.fastai/data/imdb/imdb_gen_databunch'),\n",
       " WindowsPath('C:/Users/Oren/.fastai/data/imdb/imdb_pos_databunch'),\n",
       " WindowsPath('C:/Users/Oren/.fastai/data/imdb/models'),\n",
       " WindowsPath('C:/Users/Oren/.fastai/data/imdb/README'),\n",
       " WindowsPath('C:/Users/Oren/.fastai/data/imdb/test'),\n",
       " WindowsPath('C:/Users/Oren/.fastai/data/imdb/tmp_clas'),\n",
       " WindowsPath('C:/Users/Oren/.fastai/data/imdb/tmp_lm'),\n",
       " WindowsPath('C:/Users/Oren/.fastai/data/imdb/train'),\n",
       " WindowsPath('C:/Users/Oren/.fastai/data/imdb/unsup')]"
      ]
     },
     "execution_count": 2,
     "metadata": {},
     "output_type": "execute_result"
    }
   ],
   "source": [
    "#get data, set up weights and vocab paths\n",
    "path = untar_data(URLs.IMDB)\n",
    "name = 'imdb_gen'\n",
    "lm_fns = [f'{name}_wts', f'{name}_vocab']\n",
    "path.ls()"
   ]
  },
  {
   "cell_type": "code",
   "execution_count": 3,
   "metadata": {},
   "outputs": [],
   "source": [
    "#prepare the databunch\n",
    "bs=64\n",
    "### comment below after you run it for the first time\n",
    "# data = (TextList.from_folder(path)\n",
    "#            #Inputs: all the text files in path\n",
    "#             .filter_by_folder(include=['train', 'test', 'unsup']) \n",
    "#            #We may have other temp folders that contain text files so we only keep what's in train and test\n",
    "#             .split_by_rand_pct(0.1, seed=42)\n",
    "#            #We randomly split and keep 10% (10,000 reviews) for validation\n",
    "#             .label_for_lm()           \n",
    "#            #We want to do a language model so we label accordingly\n",
    "#             .databunch(bs=bs))\n",
    "# data.save(f'{name}_databunch')\n",
    "# len(data.vocab.itos),len(data.train_ds)"
   ]
  },
  {
   "cell_type": "code",
   "execution_count": 4,
   "metadata": {
    "scrolled": false
   },
   "outputs": [
    {
     "data": {
      "text/html": [
       "<table border=\"1\" class=\"dataframe\">\n",
       "  <thead>\n",
       "    <tr style=\"text-align: right;\">\n",
       "      <th>idx</th>\n",
       "      <th>text</th>\n",
       "    </tr>\n",
       "  </thead>\n",
       "  <tbody>\n",
       "    <tr>\n",
       "      <td>0</td>\n",
       "      <td>later , by which time i did not care . xxmaj the character we should really care about is a very cocky , overconfident xxmaj ashton xxmaj kutcher . xxmaj the problem is he comes off as kid who thinks he 's better than anyone else around him and shows no signs of a cluttered closet . xxmaj his only obstacle appears to be winning over xxmaj costner . xxmaj</td>\n",
       "    </tr>\n",
       "    <tr>\n",
       "      <td>1</td>\n",
       "      <td>sidebar , xxmaj swayze 's character who is no xxmaj monk ( ! ) has sired a xxmaj russian beauty xxmaj elena ( played by the gorgeous xxmaj marta xxmaj xxunk ) on his previous missions to the former xxmaj commie state . xxmaj xxunk xxmaj swayze does a passable job in setting out to defeat the evil xxmaj russians . xxmaj but young unknown actress xxmaj marta xxmaj xxunk</td>\n",
       "    </tr>\n",
       "    <tr>\n",
       "      <td>2</td>\n",
       "      <td>proper sentences . \\n \\n  xxmaj in short i absolutely hated everything about this movie and not in \" so bad its good \" kinda way ... \\n \\n  xxmaj it was unadulterated drek . \\n \\n  xxmaj gavin xxbos xxup ok , let me start off by saying this is n't a horrible movie by any means . xxmaj it 's just not good . i</td>\n",
       "    </tr>\n",
       "    <tr>\n",
       "      <td>3</td>\n",
       "      <td>3 . xxup if your not happy all the time , you are a bad person . xxmaj no one seems to show any other emotion but happiness , no matter which situation they are in . xxmaj if the child 's parents get mad or sad for some reason , the child may think of xxmaj mommy or xxmaj daddy differently . xxmaj not a good message at all</td>\n",
       "    </tr>\n",
       "    <tr>\n",
       "      <td>4</td>\n",
       "      <td>bad performances from all the huge stars . xxmaj the jokes ai n't funny , the lines are absurd and sometimes , they does n't make sense at all . xxmaj in fact , i recently read that on the stage , xxmaj ben xxmaj affleck has asked xxmaj bay whether it would be easier if they teach astronauts to drill , than drillers to becomes astronauts and xxmaj bay</td>\n",
       "    </tr>\n",
       "  </tbody>\n",
       "</table>"
      ],
      "text/plain": [
       "<IPython.core.display.HTML object>"
      ]
     },
     "metadata": {},
     "output_type": "display_data"
    }
   ],
   "source": [
    "### uncomment below after you run above for the first time\n",
    "data = load_data(path, f'{name}_databunch', bs=bs)\n",
    "data.show_batch()"
   ]
  },
  {
   "cell_type": "code",
   "execution_count": 5,
   "metadata": {},
   "outputs": [],
   "source": [
    "### comment below after you run it for the first time\n",
    "# learn = language_model_learner(data, AWD_LSTM, pretrained=True, drop_mult=0.30)"
   ]
  },
  {
   "cell_type": "code",
   "execution_count": 6,
   "metadata": {},
   "outputs": [],
   "source": [
    "### comment below after you run it for the first time\n",
    "# learn.lr_find()\n",
    "# learn.recorder.plot(skip_end=12)"
   ]
  },
  {
   "cell_type": "code",
   "execution_count": 7,
   "metadata": {},
   "outputs": [],
   "source": [
    "### comment below after you run it for the first time\n",
    "# lr = 1e-3\n",
    "# lr *= bs/48  # Scale learning rate by batch size"
   ]
  },
  {
   "cell_type": "code",
   "execution_count": 8,
   "metadata": {},
   "outputs": [],
   "source": [
    "### comment below after you run it for the first time\n",
    "# learn.fit_one_cycle(1, lr*10, moms=(0.8,0.7))"
   ]
  },
  {
   "cell_type": "code",
   "execution_count": 9,
   "metadata": {},
   "outputs": [],
   "source": [
    "### comment below after you run it for the first time\n",
    "# learn.unfreeze()\n",
    "# learn.fit_one_cycle(4, lr, moms=(0.8,0.7))"
   ]
  },
  {
   "cell_type": "code",
   "execution_count": 10,
   "metadata": {},
   "outputs": [],
   "source": [
    "### comment below after you run it for the first time\n",
    "# mdl_path = data_folder/'models'\n",
    "# mdl_path.mkdir(exist_ok=True)\n",
    "# learn.save(mdl_path/lm_fns[0], with_opt=False)\n",
    "# learn.data.vocab.save(mdl_path/(lm_fns[1] + '.pkl'))"
   ]
  },
  {
   "cell_type": "code",
   "execution_count": 11,
   "metadata": {},
   "outputs": [],
   "source": [
    "### uncomment below after you run it for the first time\n",
    "learn = language_model_learner(data, AWD_LSTM, pretrained_fnames=lm_fns, drop_mult=0.0)"
   ]
  },
  {
   "cell_type": "markdown",
   "metadata": {},
   "source": [
    "# Text Generation Methods & Comparison"
   ]
  },
  {
   "cell_type": "code",
   "execution_count": 12,
   "metadata": {},
   "outputs": [],
   "source": [
    "#setup for text generation - prompts & number of words in each generated review\n",
    "TOKENS = [\"xxbos\",\"the\",\"this\",\"when\",\"i really\", \"you can\",\"if\", \"i was\", \"what\"]\n",
    "N_SENT = len(TOKENS)\n",
    "N_WORDS = 100 \n",
    "temp = 0.8"
   ]
  },
  {
   "cell_type": "code",
   "execution_count": 13,
   "metadata": {},
   "outputs": [],
   "source": [
    "def predict(learn, text, n_words=1, temp=1., top1=False, min_p=None, sep=' ', decoder=decode_spec_tokens):\n",
    "    '''\n",
    "    Based on fastai implementation.\n",
    "    For every word, gets the network activations, sets unknown token to 0,\n",
    "    only considers tokens above a certain value, then either returns the token\n",
    "    with the highest activation or samples from the distribution of activations.\n",
    "    '''\n",
    "    learn.model.reset()\n",
    "    xb,yb = learn.data.one_item(text)\n",
    "    new_idx = []\n",
    "    for _ in range(n_words):\n",
    "        res = learn.pred_batch(batch=(xb,yb))[0][-1]\n",
    "        res[learn.data.vocab.stoi[UNK]] = 0.\n",
    "        if min_p is not None: res[res < min_p] = 0.\n",
    "        res.pow_(1 / temp)\n",
    "        if top1: idx = torch.argmax(res).item() # greedy decoding\n",
    "        else: idx = torch.multinomial(res, 1).item()\n",
    "        new_idx.append(idx)\n",
    "        xb = xb.new_tensor([idx])[None]\n",
    "    return '[' + text + ']' + sep + sep.join(decoder(learn.data.vocab.textify(new_idx, sep=None)))\n",
    "    \n",
    "def beam_search(learn, text, n_words=1, top_k=10, beam_sz=1000, temp=1., sep=' ', decoder=decode_spec_tokens):\n",
    "    '''\n",
    "    Based on fastai implementation.\n",
    "    Performs beam search\n",
    "    '''\n",
    "    learn.model.reset()\n",
    "    learn.model.eval()\n",
    "    xb, yb = learn.data.one_item(text)\n",
    "    nodes = None\n",
    "    nodes = xb.clone()\n",
    "    scores = xb.new_zeros(1).float()\n",
    "    with torch.no_grad():\n",
    "        for k in progress_bar(range(n_words), leave=False):\n",
    "            out = F.log_softmax(learn.model(xb)[0][:,-1], dim=-1)\n",
    "            out[:,learn.data.vocab.stoi[UNK]] = -float('Inf')\n",
    "            values, indices = out.topk(top_k, dim=-1)\n",
    "            scores = (-values + scores[:,None]).view(-1)\n",
    "            indices_idx = torch.arange(0,nodes.size(0))[:,None].expand(nodes.size(0), top_k).contiguous().view(-1)\n",
    "            sort_idx = scores.argsort()[:beam_sz]\n",
    "            scores = scores[sort_idx]\n",
    "            nodes = torch.cat([nodes[:,None].expand(nodes.size(0),top_k,nodes.size(1)),\n",
    "                            indices[:,:,None].expand(nodes.size(0),top_k,1),], dim=2)\n",
    "            nodes = nodes.view(-1, nodes.size(2))[sort_idx]\n",
    "            learn.model[0].select_hidden(indices_idx[sort_idx])\n",
    "            xb = nodes[:,-1][:,None]\n",
    "    #print(scores)\n",
    "    scores -= scores.max()\n",
    "    node_idx = torch.multinomial(torch.exp(-scores / temp), 1).item()\n",
    "    #node_idx = torch.argmax(scores) # returns top candidate instead of multinomial\n",
    "    return '[' + text + ']' + sep + sep.join(decoder(\n",
    "        learn.data.vocab.textify([i.item() for i in nodes[node_idx][2:]], sep=None)))\n",
    "    \n",
    "def predict_topk(learn, text, n_words=1, k=5, temp=1., min_p=None, sep=' ', decoder=decode_spec_tokens):\n",
    "    \"Based on paper.\"\n",
    "    \"Return `text` and the `n_words` that come after\"\n",
    "    learn.model.reset()\n",
    "    xb,yb = learn.data.one_item(text)\n",
    "    new_idx = []\n",
    "    for _ in range(n_words):\n",
    "        outp = learn.pred_batch(batch=(xb,yb))[0][-1]\n",
    "        outp[learn.data.vocab.stoi[UNK]] = 0.\n",
    "        if min_p is not None: outp[outp < min_p] = 0.\n",
    "        probs = F.softmax(outp / temp,dim=-1)\n",
    "        vals,idxs = probs.topk(k, dim=-1)\n",
    "        idx = idxs[torch.multinomial(vals, 1).item()]\n",
    "        new_idx.append(idx)\n",
    "        xb = xb.new_tensor([idx])[None]\n",
    "    return '[' + text + ']' + sep + sep.join(decoder(learn.data.vocab.textify(new_idx, sep=None)))\n",
    "    \n",
    "def predict_nucleus(learn, text, n_words=1, p=0.5, temp=1., min_p=None, sep=' ', decoder=decode_spec_tokens):\n",
    "    \"Based on paper.\"\n",
    "    \"Return `text` and the `n_words` that come after\"\n",
    "    learn.model.reset()\n",
    "    xb,yb = learn.data.one_item(text)\n",
    "    new_idx = []\n",
    "    for _ in range(n_words):\n",
    "        outp = learn.pred_batch(batch=(xb,yb))[0][-1]\n",
    "        outp[learn.data.vocab.stoi[UNK]] = 0.\n",
    "        if min_p is not None: outp[outp < min_p] = 0.\n",
    "        probs = F.softmax(outp / temp, dim=-1) \n",
    "        cumsum_prob = (probs.sort(descending=True)[0]).cumsum(0)\n",
    "        k = (cumsum_prob > p).nonzero().view(-1)[0].int() + 1\n",
    "        vals,idxs = probs.topk(k, dim=-1)\n",
    "        idx = idxs[torch.multinomial(vals, 1).item()]\n",
    "        new_idx.append(idx)\n",
    "        xb = xb.new_tensor([idx])[None]\n",
    "    return '[' + text + ']' + sep + sep.join(decoder(learn.data.vocab.textify(new_idx, sep=None)))"
   ]
  },
  {
   "cell_type": "code",
   "execution_count": 14,
   "metadata": {},
   "outputs": [
    {
     "name": "stdout",
     "output_type": "stream",
     "text": [
      "1. [xxbos] This is a very good movie . It is a very good movie . It is a very good movie . It is a very good movie . It is a very good movie . It is a very good movie . It is a movie that is not for everyone . It is a movie that is not for everyone . It is a movie that is not for everyone . It is a movie that is not for everyone . It is a movie that is not\n",
      "\n",
      "2. [the] first time i saw this movie i was in the theater and i was so excited to see it . i was so excited to see it . i was so excited to see it . i was so excited to see it . i was so excited to see it . i was so excited to see it . i was so excited to see it . i was so excited to see it . i was so excited to see it . i was so excited to see it . i was so excited to see it .\n",
      "\n",
      "3. [this] movie is a total waste of time . i have seen a lot of movies , but this one is so bad that it is funny . The acting is terrible , the plot is ridiculous , and the plot is so stupid . The only thing that really makes this movie worth watching is the fact that it is a movie that is so bad it is funny . The only reason i gave it a 2 is because i am a big fan of Ed Wood , and i am a huge fan\n",
      "\n",
      "4. [when] i first saw this movie i thought it was a good movie . i was n't expecting much , but i was pleasantly surprised . The movie is very well done and the acting is good . The story is very interesting and the acting is good . The story is very interesting and the characters are very well developed . The movie is very well done and the acting is very good . The movie is very well done and the acting is very good . The movie is very well done and\n",
      "\n",
      "5. [i really] enjoyed this movie . It was a great movie . It was a great movie . It was a great movie . It was a great movie . It was a great movie . It was a great movie . It was a great movie . It was a great movie . It was a great movie . It was a great movie . It was a great movie . It was a great movie . It was a great movie . It was a great\n",
      "\n",
      "6. [you can] tell that this movie is a very good movie . i think it is a good movie . i think it is a good movie . i think it is a good movie . i think it is a good movie . i think it is a good movie . i think it is a good movie . i think it is a good movie . i think it is a good movie . i think it is a good movie . i think it is a good movie . i think it is a good movie . i think\n",
      "\n",
      "7. [if] you 're a fan of John Wayne , you 'll love this movie . It 's a great movie , and i 'm sure it 's a lot of fun to watch . It 's a great movie , and i 'm sure it will be a cult classic . It 's a great movie , and i recommend it to anyone who likes action movies . It 's a great movie , and i recommend it to anyone who likes action movies . xxbos This is a very good movie .\n",
      "\n",
      "8. [i was] n't expecting much from this movie , but i was pleasantly surprised . The acting was good , the story was good , and the story was well - written . The story was very well written , and the acting was good . The story was very well written , and the acting was very good . The story was very well written , and the acting was very good . The story was very well written , and the acting was very good . The story was very well written , and\n",
      "\n",
      "9. [what] a waste of time . i have seen this movie a couple of times and i have to say that i was very disappointed . i was very disappointed with the movie . The acting was terrible , the story was predictable and the ending was a complete mess . The only thing that kept me watching was the ending . The ending was a little predictable but i think it was a good movie . The ending was a little predictable but i think it was a good movie . The ending was very\n"
     ]
    }
   ],
   "source": [
    "#greedy top-1 prediction\n",
    "print(\"\\n\\n\".join(str(i+1) + \". \" + predict(learn, TOKENS[i], N_WORDS, temp, True)\n",
    "                  for i in range(N_SENT)))"
   ]
  },
  {
   "cell_type": "code",
   "execution_count": 15,
   "metadata": {},
   "outputs": [
    {
     "name": "stdout",
     "output_type": "stream",
     "text": [
      "1. [xxbos] This film is a total waste of time . The acting is appalling ... a game on the Game People is a laugh - out - loud comedy . The acting is n't bad , but the story is simply awful . Where did this movie get made ? No , just the same , LIFELESS LIFE is the worst film i have ever seen . The only good thing about the movie is that it is actually filmed in Mexico , even though it is a plot to\n",
      "\n",
      "2. [the] most classic BRITISH television series of our time . This is truly one of the best British television series we 've ever seen . i mean , that SHOWS World Wide Range and shows such strong women who come to Britain to live . And , once again , they are the only TV productions i know out there and the last TV series i 've seen . The sets are flawless , the costumes and scenery are wonderful and the story line is well written from the\n",
      "\n",
      "3. [this] is a nice little film about the \" Big Dark \" of the Cold War . The film is far from that true . It should have been filmed with an set on some excellent Big Town Formula and not with just a Tango . It seems like Eastwood would have been less interested in writing his story . There are a couple of interesting scenes but , too , the film is n't all that great . Be warned though there is a lot of\n",
      "\n",
      "4. [when] i saw this movie , i took the stage and watched the original production and thought it was very funny . From the opening scene , i got to know what else to say . It was so funny when i saw the whole movie and said , \" It 's as funny as it must be . And i 'm still so old and so tired . \" The movie is set in Constantly , Kansas , but the acting is really good . Neatly made jokes about the big city\n",
      "\n",
      "5. [i really] ca n't understand why this movie was so popular and i think it was a lot like \" The Melting Man \" . i think its a great movie to watch . It also shows a lot of good acting and a very funny story . Especially the scary scene . If you like to see a bad old man do n't believe this movie , turn it off . When you watch it , you will see that it is a Alien . It reminds me of a time when\n",
      "\n",
      "6. [you can] imagine with Al Pacino , Michael Caine and Alan Arkin that this movie came out on the same day that Al Pacino was in love with Ellen Barkin . In this era of movie that was instantly forgettable and ludicrous , i was expecting movies with actors to make a big movie , but this is the story of the actors at Martin Scorsese 's My Dinner With Andre . It is about a simple story that leaves you with a feeling\n",
      "\n",
      "7. [if] you are not a fan of bad movies , and enjoy a horror movie , or are you a fan of SCIFI ? What you get when you watch a movie like this , you will not realize it is the worst movie in the world . You meet the Director , his friends , and his buddies . i can not believe that not everyone was expecting something like this . Of course , there are some people that just like to laugh at how bad this movie is , but you could not\n",
      "\n",
      "8. [i was] impressed by a movie called bad movie , i thought it was funny , but this is just terrible . The plot is ridiculous , the acting is bad , and the humor is not funny . The main character is a funeral - bag who is trying to find his true identity , but their family is not , except the younger boy . i would say this is not too bad but the rest of the movie is just a waste of time and money . i think that this movie was a waste of time\n",
      "\n",
      "9. [what] can i say about a film that is so bad it really is n't even funny . it is not funny , the chemistry between the actors is pathetic and the script is non existent . the writing is the worst i 've ever seen , i do n't even understand what people think of this film . The acting is awful , the story is a joke , the acting is worse than bad , the story is so weak that it makes no sense at all , the characters are lifeless , and the characters are stupid\n"
     ]
    }
   ],
   "source": [
    "#greedy multinomial prediction\n",
    "print(\"\\n\\n\".join(str(i+1) + \". \" + predict(learn, TOKENS[i], N_WORDS, temp, False)\n",
    "                  for i in range(N_SENT)))"
   ]
  },
  {
   "cell_type": "code",
   "execution_count": 16,
   "metadata": {},
   "outputs": [
    {
     "name": "stdout",
     "output_type": "stream",
     "text": [
      "1. [xxbos] This is one of the worst movies i have ever seen . The acting is terrible , the plot is non - existent , and the acting is terrible . The only good thing i can say about this movie is that it is so bad it 's good . If you want a good laugh , watch this movie . Do n't waste your time . Do n't waste your time . Do n't waste your time . Do n't waste your time or money on this . xxbos This\n",
      "\n",
      "2. [the] first time i saw this movie , i thought it was the worst movie i have ever seen in my life . The first time i saw it , i thought it was the worst movie i have ever seen in my life . The first time i saw it , i thought it was the worst movie i have ever seen in my life . The first time i saw this movie , i thought it was the worst movie i have ever seen . It was so bad , i had to watch it\n",
      "\n",
      "3. [this] is one of the worst movies i have ever seen . the acting is terrible , the plot is ridiculous , and the acting is terrible . the only reason i gave it a 2 instead of a 1 instead of a 1 is because i am a big fan of b - movies , and this is one of the worst movies i have ever seen . the only reason i gave it a 2 instead of a 1 instead of a 1 is because i am a big fan of b - movies , and this one is\n",
      "\n",
      "4. [when] i first heard about this movie , i thought it was going to be a good movie . i was wrong . i was n't expecting much from this movie , but i was pleasantly surprised . The acting was good , the story was good , and the story was well written . The acting was n't bad , but it was n't as bad as i thought it would be . It was n't as bad as i thought it would be , but it was n't as bad as i thought it would be\n",
      "\n",
      "5. [i really] really do n't know what to say about this movie . It 's not a bad movie . It 's not funny , it 's not funny , it 's not funny , it 's not funny , it 's not funny , it 's not funny , it 's not funny , it 's not funny , it 's not funny , it 's not funny , it 's not funny , it 's not funny , it 's not funny , it 's not funny , it 's not funny , it 's not funny , it\n",
      "\n",
      "6. [you can] can say that this is one of the worst movies i have ever seen in my life . i do n't think i 've ever seen a worse movie in my life . This is one of the worst movies i have ever seen . The only reason i gave it a 2 instead of a 1 instead of a 1 is because it was so bad . The only reason i gave it a 2 instead of a 1 instead of a 1 is because it was so bad . The only reason i gave it\n",
      "\n",
      "7. [if] you have n't seen this movie , do yourself a favor and do n't waste your time or money on it . If you have n't seen it yet , do n't waste your time or money on it . Do n't waste your time . Do n't waste your time . Do n't waste your time . Do n't waste your time . Do n't waste your time . Do n't waste your time . Do n't waste your time . Do n't watch this movie . Do n't\n",
      "\n",
      "8. [i was] was lucky enough to see this movie at the Toronto International Film Festival . It is one of the best movies i have seen in a long time . The acting is superb , the story is great , and the acting is superb . This movie is a must - see . xxbos This is one of the worst movies i have seen in a long time . The acting is terrible , the plot is non - existent , and the special effects are laughable . The only good\n",
      "\n",
      "9. [what] a waste of time and money . This movie is a waste of time and money . The only reason i gave it a 2 instead of a 1 instead of a 1 instead of a 1 is because the movie is so bad it 's good . The acting is bad , the story is stupid and the acting is terrible . The only good thing i can say about this movie is that it 's so bad it 's good . xxbos This is one of the worst movies i have ever seen\n"
     ]
    }
   ],
   "source": [
    "#beam-search prediction\n",
    "print(\"\\n\\n\".join(str(i+1) + \". \" + beam_search(learn, TOKENS[i], N_WORDS, top_k=6, beam_sz=20, temp=temp)\n",
    "                  for i in range(N_SENT)))"
   ]
  },
  {
   "cell_type": "code",
   "execution_count": 17,
   "metadata": {},
   "outputs": [
    {
     "name": "stdout",
     "output_type": "stream",
     "text": [
      "1. [xxbos] i was lucky that i found a video store that bought it and got me into buying it because the movie was a complete bore . There was nothing good to say , the movie seemed like a bad one , but that is what the movies were supposed for , so i did not like the story , or at some point did the plot line in this movie , but the story was so good i did n't know how it got to go , it 's a very good story , and i thought it was\n",
      "\n",
      "2. [the] film is very slow and slow and it is a bit of another mess . There is a scene where John ( a guy with his own hair ) gets a shot of his neck , he gets out . ( i have n't seen the DVD for over 5 years , and the video looks very nice but that is n't enough . \n",
      " \n",
      "  The acting by some is very good and it 's very hard not Michael Keaton to do the right part . \n",
      " \n",
      "  SPOILER ALERT : the first\n",
      "\n",
      "3. [this] was the first time that a person would have said something about the film and i 'm glad that the people responsible for it are still there , because i do n't want them , i do . It 's just the story of two people who get married , and then have their lives set in motion and then go on a journey that will make their lives all the worse they will go . \n",
      " \n",
      "  The first part is that this film , like all of them . i do not think that it is the\n",
      "\n",
      "4. [when] it 's time out the DVD box i have to say , i 'm glad i watched the movie . \n",
      " \n",
      "  it 's not a very great horror movie , it 's really good for the whole movie and is n't a very good horror . \n",
      " \n",
      "  The plot was a bit confusing and the acting is very wooden . the acting was pretty poor , i mean Michael S. and Jennifer 's Daughter did not do the same thing in this . There 's also an extremely cheesy soundtrack which makes the\n",
      "\n",
      "5. [i really] wanted a movie to be funny but the plot was so bad that the actors could n't act at any time . The acting in House on Acting was terrible , James C. Garner 's character seemed too forced , i felt he was just trying to make the movie look real like a real - Life Size Man , and he looked so fake . \n",
      " \n",
      "  i was n't expecting James L. Smith , he 's a great comedian ( he has been on Comedy in\n",
      "\n",
      "6. [you can] see this movie when i am a child . and it is very good , and i do not know why this one got such a bad rating . \n",
      " \n",
      "  it starts of in an American village with some people , and some kids in a school trying their best . It starts as the kids find out what is really going on , but they soon get caught , then go home , go back and find their father . the kids then take the kid back and they get to meet some guy with some good\n",
      "\n",
      "7. [if] there 's ever an TV Movie that does have Michael 's own Music , this movie should n't go out there for all the wrong reasons ! i have never been a fan of this type and love movies , so i am going with them to give me a few bucks for this . \n",
      " \n",
      "  the acting was so poor it 's almost like they did Michael and his character 's acting is just so terrible , you could see the Music in it as it was so bad that they could be\n",
      "\n",
      "8. [i was] so bored with the movie that i had the feeling of being wasted watching the whole movie . i did not care who Tom is but what he was thinking and i felt the movie did n't have any plot or depth and that the plot would have been better had Jerry and her friend , Jim , are not in it . xxbos In the United US , there are no \" Big TV \" series . This show was the best , i have ever seen ! \n",
      " \n",
      "  \"\n",
      "\n",
      "9. [what] a disappointment i was seeing . the acting was bad at best and even worse the acting . the story is so weak it could n't even come as an interesting piece for the movie . it 's not even worth a rent . it 's not a very good movie . it has a few nice scenes in there . but it is n't even a comedy at all . the story is just not that interesting , it has no plot at most and it is a movie which has a lot more plot than it could ever\n"
     ]
    }
   ],
   "source": [
    "#top-k prediction\n",
    "print(\"\\n\\n\".join(str(i+1) + \". \" + predict_topk(learn, TOKENS[i], N_WORDS, 5, temp)\n",
    "                  for i in range(N_SENT)))"
   ]
  },
  {
   "cell_type": "code",
   "execution_count": 18,
   "metadata": {},
   "outputs": [
    {
     "name": "stdout",
     "output_type": "stream",
     "text": [
      "1. [xxbos] a Christmas Eve has the potential of a cult movie but the story is very thin in the beginning . \n",
      " \n",
      "  In addition to that there is a good amount of gore and some nudity , and there was n't much gore in the movie and it does seem very tame in comparison . i have no complaints that i do enjoy watching John Travolta 's acting as the bad guys , i have no problem saying it was n't a total failure to watch him act like a bad ass , he was a\n",
      "\n",
      "2. [the] film starts off slow but the story moves quickly , the plot has some nice ideas , it keeps your interest . i was expecting to find something new , and was very excited . it is n't very original , just a bunch that is just a bit boring . i do n't like the film for its story and characters . i would recommend the book , the story , etc to anyone who enjoys reading Lovecraft , especially the books . i would n't be surprised that they would make a better movie , but the\n",
      "\n",
      "3. [this] show was the most awful show that i have watched since \" American TV \" . it 's like someone 's been on a Reality show . the show is not that good for it 's own reasons . if you do watch the whole thing you will be amazed and annoyed when they see a lot more funny and funny stuff on this site , they just say it is stupid ! they have done something like \" i 'm a Sex Freak \" or \" What is that \" .\n",
      "\n",
      "4. [when] i first started watching it it seemed to go downhill . i had a great idea of a Star II series and had been watching a Sci fi film since the first time it aired in USA in 1988 . the first season was good but then the American television and movie went on . \n",
      " \n",
      "  this series , however , has some very great moments , but this time it has to do . i have been trying for the first two season and it has the most boring , boring characters , not\n",
      "\n",
      "5. [i really] wanted a lot better from this movie . If there are other people who like to make good , bad movies , it is for them , but it 's just that the acting is n't even bad at all . It was n't that bad . xxbos \" i was a Fan of a Fan , \" was i waiting . After seeing it , the audience seemed to enjoy it and enjoyed the whole thing , and the ending is not so surprising that you ca not really get the whole picture .\n",
      "\n",
      "6. [you can] just not say what i was expecting in a horror film ... and the fact it 's not even close . this movie does not do it for us at all . and i 'm sure i will be disappointed . i was n't really sure if it could have ended with a decent script or a decent script . \n",
      " \n",
      "  the characters do not have the same motivation , they do not act in any of their scenes , the plot line is not very believable and i am not saying that they should do it , but i\n",
      "\n",
      "7. [if] you 're looking for some kind , good American Pie movies ( And not in a French movie like that ) , this is the perfect choice . it has a great premise . It follows a couple of college guys , David Pie & Pie Van , as their characters try to break through the middle classes , which they 're not in to , it 's all in Hollywood . i love that Rob and Rob 's work in the film is a good example ,\n",
      "\n",
      "8. [i was] very impressed . As the story goes on , i found myself wondering how the story ended . i thought i had just wasted two and two hours of this film on a film - festival and was n't disappointed . a good movie , not only for its acting ( especially the lead actress ) but especially for her American Movie - style direction . If your in to do a film , this is not for your tastes , you wo n't regret watching . If it was , then it could n't\n",
      "\n",
      "9. [what] i got was a really stupid , stupid comedy about an AIDS - virus being brought out to the public by the police in order to get to the police , who would later take it back and turn it down and turn on the public to make them look more like they 're in a mental illness than a normal man . \n",
      " \n",
      "  BUT it 's just the kind of movie that is just bad because you ca n't get past this fact . \n",
      " \n",
      "  OK i know , it 's not a horror / comedy\n"
     ]
    }
   ],
   "source": [
    "#top-p prediction\n",
    "print(\"\\n\\n\".join(str(i+1) + \". \" + predict_nucleus(learn, TOKENS[i], N_WORDS, p=1e-4, temp=temp)\n",
    "                  for i in range(N_SENT)))"
   ]
  }
 ],
 "metadata": {
  "kernelspec": {
   "display_name": "Python 3",
   "language": "python",
   "name": "python3"
  },
  "language_info": {
   "codemirror_mode": {
    "name": "ipython",
    "version": 3
   },
   "file_extension": ".py",
   "mimetype": "text/x-python",
   "name": "python",
   "nbconvert_exporter": "python",
   "pygments_lexer": "ipython3",
   "version": "3.7.5"
  }
 },
 "nbformat": 4,
 "nbformat_minor": 2
}
